{
 "metadata": {
  "name": "",
  "signature": "sha256:2dc414cf0964c36ab542e2a05b818162d100fd9a0ef53718a80017d92ffc2b8b"
 },
 "nbformat": 3,
 "nbformat_minor": 0,
 "worksheets": [
  {
   "cells": [
    {
     "cell_type": "code",
     "collapsed": false,
     "input": [
      "from numpy import *\n",
      "from scipy import *\n",
      "from scipy.optimize import *\n",
      "from matplotlib.pyplot import *\n",
      "%matplotlib inline"
     ],
     "language": "python",
     "metadata": {},
     "outputs": [],
     "prompt_number": 1
    },
    {
     "cell_type": "code",
     "collapsed": false,
     "input": [
      "dh,k,dV,dt=genfromtxt(\"exp.csv\",delimiter=\",\",skip_header=1).T\n",
      "len(dh)"
     ],
     "language": "python",
     "metadata": {},
     "outputs": [
      {
       "metadata": {},
       "output_type": "pyout",
       "prompt_number": 2,
       "text": [
        "17"
       ]
      }
     ],
     "prompt_number": 2
    },
    {
     "cell_type": "code",
     "collapsed": false,
     "input": [
      "sdh=0.05\n",
      "sdt=0.5\n",
      "dP=dh*k*0.01*9.80665*809.5\n",
      "sdP=sdh*k*0.01*9.80665*809.5\n",
      "Q=dV/dt*1e-3\n",
      "sQ=sdt/dt*Q"
     ],
     "language": "python",
     "metadata": {},
     "outputs": [],
     "prompt_number": 3
    },
    {
     "cell_type": "code",
     "collapsed": false,
     "input": [
      "rcParams['figure.figsize']=(6.5,4)\n",
      "def lin(x,a):\n",
      "    return a*x\n",
      "ko,sko=curve_fit(lin,dP[:6],Q[:6],sigma=sQ[:6],absolute_sigma=False)\n",
      "ko,sko=ko[0],sqrt(sko[0,0])\n",
      "errorbar(Q*1e6,dP,xerr=sQ*1e6,yerr=sdP,fmt='.')\n",
      "plot(Q*1e6,Q/ko)\n",
      "minorticks_on()\n",
      "grid(which=\"both\")\n",
      "ylabel(\"\u0394P, \u041f\u0430\")\n",
      "xlabel(\"Q, \u0441\u043c\u00b3/\u0441\")\n",
      "savefig(\"graph_p_q.pdf\",format=\"pdf\",dpi=300)\n",
      "print(ko,sko)"
     ],
     "language": "python",
     "metadata": {},
     "outputs": [
      {
       "output_type": "stream",
       "stream": "stdout",
       "text": [
        "7.63802809056e-07 6.17454199107e-09\n"
       ]
      },
      {
       "metadata": {},
       "output_type": "display_data",
       "png": "[encoded data removed]",
       "text": [
        "<matplotlib.figure.Figure at 0xaf476f6c>"
       ]
      }
     ],
     "prompt_number": 10
    },
    {
     "cell_type": "code",
     "collapsed": false,
     "input": [
      "for i in range(len(dP)):\n",
      "    print(dh[i],k[i],dV[i],dt[i],\"${0:.1f}\\pm {1:.1f}$\".format(dP[i],sdP[i]).replace(\".\",\"{,}\"),\n",
      "          \"${0:.1f}\\pm {1:.1f}$\".format(Q[i]*1e6,sQ[i]*1e6).replace(\".\",\"{,}\")\n",
      "          ,sep=\" & \",end=' \\\\\\\\\\n\\t\\t\\t')"
     ],
     "language": "python",
     "metadata": {},
     "outputs": [
      {
       "output_type": "stream",
       "stream": "stdout",
       "text": [
        "1.85 & 0.2 & 1.5 & 66.0 & $29{,}4\\pm 0{,}8$ & $22{,}7\\pm 0{,}2$ \\\\\n",
        "\t\t\t0.85 & 0.2 & 0.5 & 50.0 & $13{,}5\\pm 0{,}8$ & $10{,}0\\pm 0{,}1$ \\\\\n",
        "\t\t\t3.4 & 0.2 & 1.5 & 37.0 & $54{,}0\\pm 0{,}8$ & $40{,}5\\pm 0{,}5$ \\\\\n",
        "\t\t\t4.6 & 0.2 & 2.5 & 44.0 & $73{,}0\\pm 0{,}8$ & $56{,}8\\pm 0{,}6$ \\\\\n",
        "\t\t\t5.7 & 0.2 & 3.0 & 43.0 & $90{,}5\\pm 0{,}8$ & $69{,}8\\pm 0{,}8$ \\\\\n",
        "\t\t\t7.3 & 0.2 & 3.0 & 34.0 & $115{,}9\\pm 0{,}8$ & $88{,}2\\pm 1{,}3$ \\\\\n",
        "\t\t\t9.1 & 0.2 & 4.0 & 42.0 & $144{,}5\\pm 0{,}8$ & $95{,}2\\pm 1{,}1$ \\\\\n",
        "\t\t\t12.1 & 0.2 & 4.0 & 39.0 & $192{,}1\\pm 0{,}8$ & $102{,}6\\pm 1{,}3$ \\\\\n",
        "\t\t\t17.7 & 0.2 & 5.0 & 41.0 & $281{,}0\\pm 0{,}8$ & $122{,}0\\pm 1{,}5$ \\\\\n",
        "\t\t\t24.7 & 0.2 & 5.5 & 38.0 & $392{,}2\\pm 0{,}8$ & $144{,}7\\pm 1{,}9$ \\\\\n",
        "\t\t\t27.3 & 0.2 & 7.0 & 45.0 & $433{,}4\\pm 0{,}8$ & $155{,}6\\pm 1{,}7$ \\\\\n",
        "\t\t\t20.6 & 0.2 & 5.5 & 41.0 & $327{,}1\\pm 0{,}8$ & $134{,}1\\pm 1{,}6$ \\\\\n",
        "\t\t\t15.2 & 0.2 & 5.0 & 43.0 & $241{,}3\\pm 0{,}8$ & $116{,}3\\pm 1{,}4$ \\\\\n",
        "\t\t\t15.2 & 0.4 & 7.5 & 45.0 & $482{,}7\\pm 1{,}6$ & $166{,}7\\pm 1{,}9$ \\\\\n",
        "\t\t\t18.2 & 0.4 & 7.5 & 41.0 & $577{,}9\\pm 1{,}6$ & $182{,}9\\pm 2{,}2$ \\\\\n",
        "\t\t\t21.0 & 0.4 & 10.0 & 51.0 & $666{,}8\\pm 1{,}6$ & $196{,}1\\pm 1{,}9$ \\\\\n",
        "\t\t\t24.1 & 0.4 & 12.0 & 57.0 & $765{,}3\\pm 1{,}6$ & $210{,}5\\pm 1{,}8$ \\\\\n",
        "\t\t\t"
       ]
      }
     ],
     "prompt_number": 5
    },
    {
     "cell_type": "code",
     "collapsed": false,
     "input": [
      "print(sdP,sQ*1e6)"
     ],
     "language": "python",
     "metadata": {},
     "outputs": [
      {
       "output_type": "stream",
       "stream": "stdout",
       "text": [
        "[ 0.79384832  0.79384832  0.79384832  0.79384832  0.79384832  0.79384832\n",
        "  0.79384832  0.79384832  0.79384832  0.79384832  0.79384832  0.79384832\n",
        "  0.79384832  1.58769664  1.58769664  1.58769664  1.58769664] [ 0.17217631  0.1         0.54784514  0.64566116  0.81124932  1.29757785\n",
        "  1.13378685  1.31492439  1.48720999  1.90443213  1.72839506  1.63593099\n",
        "  1.35208221  1.85185185  2.23081499  1.92233756  1.84672207]\n"
       ]
      }
     ],
     "prompt_number": 6
    },
    {
     "cell_type": "code",
     "collapsed": false,
     "input": [
      "sd=0.05e-3\n",
      "d=3.9e-3\n",
      "l=5e-1\n",
      "eta=pi*(d/2)**4/(8*l*ko)\n",
      "eta"
     ],
     "language": "python",
     "metadata": {},
     "outputs": [
      {
       "metadata": {},
       "output_type": "pyout",
       "prompt_number": 13,
       "text": [
        "1.4867812501687257e-05"
       ]
      }
     ],
     "prompt_number": 13
    },
    {
     "cell_type": "code",
     "collapsed": false,
     "input": [
      "seta=eta*sqrt((sko/ko)**2+(4*sd/d)**2)\n",
      "seta"
     ],
     "language": "python",
     "metadata": {},
     "outputs": [
      {
       "metadata": {},
       "output_type": "pyout",
       "prompt_number": 17,
       "text": [
        "7.7186703524109303e-07"
       ]
      }
     ],
     "prompt_number": 17
    },
    {
     "cell_type": "code",
     "collapsed": false,
     "input": [
      "v=Q/(pi*(d/2)**2)\n",
      "v"
     ],
     "language": "python",
     "metadata": {},
     "outputs": [
      {
       "metadata": {},
       "output_type": "pyout",
       "prompt_number": 15,
       "text": [
        "array([  1.90251561,   0.83710687,   3.39367649,   4.75628902,\n",
        "         5.84028047,   7.38623706,   7.97244635,   8.58571146,\n",
        "        10.20862033,  12.11602044,  13.02166238,  11.22948236,\n",
        "         9.73380078,  13.95178112,  15.31293049,  16.41386014,  17.62330246])"
       ]
      }
     ],
     "prompt_number": 15
    },
    {
     "cell_type": "code",
     "collapsed": false,
     "input": [
      "rho=1.29\n",
      "Re=v*(d/2)*rho/eta\n",
      "Re"
     ],
     "language": "python",
     "metadata": {},
     "outputs": [
      {
       "metadata": {},
       "output_type": "pyout",
       "prompt_number": 16,
       "text": [
        "array([  321.88850973,   141.63094428,   574.17950384,   804.72127432,\n",
        "         988.12286707,  1249.68480247,  1348.866136  ,  1452.62506953,\n",
        "        1727.20663756,  2049.92156194,  2203.14802213,  1899.92730131,\n",
        "        1646.87144511,  2360.51573799,  2590.80995633,  2777.07733881,\n",
        "        2981.7040901 ])"
       ]
      }
     ],
     "prompt_number": 16
    },
    {
     "cell_type": "code",
     "collapsed": false,
     "input": [
      "rcParams['figure.figsize']=(4.5,3)\n",
      "dhn=array([20.1,16.5,10.,5.5,0])\n",
      "la=array([11.5+30+40+50,30+40+50,40+50,50.,0])\n",
      "kn=.2\n",
      "dPn=dhn*kn*0.01*9.80665*809.5\n",
      "sdPn=sdh*kn*0.01*9.80665*809.5\n",
      "errorbar(la,dPn,yerr=sdPn,fmt='.')\n",
      "axis([0,140,0,350])\n",
      "minorticks_on()\n",
      "grid(which=\"both\")\n",
      "ylabel(\"\u0394P, \u041f\u0430\")\n",
      "xlabel(\"l, \u0441\u043c\")\n",
      "savefig(\"graph_p_l.pdf\",format=\"pdf\",dpi=300)"
     ],
     "language": "python",
     "metadata": {},
     "outputs": [
      {
       "metadata": {},
       "output_type": "display_data",
       "png": "[encoded data removed]",
       "text": [
        "<matplotlib.figure.Figure at 0xaf1b080c>"
       ]
      }
     ],
     "prompt_number": 31
    },
    {
     "cell_type": "code",
     "collapsed": false,
     "input": [],
     "language": "python",
     "metadata": {},
     "outputs": []
    }
   ],
   "metadata": {}
  }
 ]
}