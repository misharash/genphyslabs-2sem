{
 "metadata": {
  "name": "",
  "signature": "sha256:8669491758f787100b479153a1a770f3538f5d6ed4d8c25c38fe48bcb271bb18"
 },
 "nbformat": 3,
 "nbformat_minor": 0,
 "worksheets": [
  {
   "cells": [
    {
     "cell_type": "code",
     "collapsed": false,
     "input": [
      "from numpy import *\n",
      "from pylab import *\n",
      "from scipy.optimize import *\n",
      "%matplotlib inline"
     ],
     "language": "python",
     "metadata": {},
     "outputs": [],
     "prompt_number": 2
    },
    {
     "cell_type": "code",
     "collapsed": false,
     "input": [
      "data = genfromtxt('exp.csv',delimiter=';')\n",
      "data"
     ],
     "language": "python",
     "metadata": {},
     "outputs": [
      {
       "metadata": {},
       "output_type": "pyout",
       "prompt_number": 3,
       "text": [
        "array([[  nan,   nan,   nan],\n",
        "       [  5. ,  10.4,   2. ],\n",
        "       [  3. ,   9.7,   2. ],\n",
        "       [ 10. ,  10.2,   1.3],\n",
        "       [ 15. ,  10.2,   0.8],\n",
        "       [ 20. ,   9.6,   0.7],\n",
        "       [  7. ,  10.4,   1.5],\n",
        "       [  8. ,  10. ,   1.4],\n",
        "       [ 12. ,   9.6,   0.8],\n",
        "       [  4. ,   9.8,   1.7],\n",
        "       [  2. ,  10.4,   2. ],\n",
        "       [  1. ,  10.3,   2. ],\n",
        "       [ 17. ,  10.2,   0.9],\n",
        "       [ 23. ,  10. ,   0.7],\n",
        "       [ 25. ,  10.2,   0.6],\n",
        "       [ 13. ,   8. ,   0.8],\n",
        "       [ 18. ,   4.4,   0.4]])"
       ]
      }
     ],
     "prompt_number": 3
    },
    {
     "cell_type": "code",
     "collapsed": false,
     "input": [
      "tau=data[1:,0]\n",
      "tau"
     ],
     "language": "python",
     "metadata": {},
     "outputs": [
      {
       "metadata": {},
       "output_type": "pyout",
       "prompt_number": 4,
       "text": [
        "array([  5.,   3.,  10.,  15.,  20.,   7.,   8.,  12.,   4.,   2.,   1.,\n",
        "        17.,  23.,  25.,  13.,  18.])"
       ]
      }
     ],
     "prompt_number": 4
    },
    {
     "cell_type": "code",
     "collapsed": false,
     "input": [
      "h1=data[1:,1]\n",
      "h1"
     ],
     "language": "python",
     "metadata": {},
     "outputs": [
      {
       "metadata": {},
       "output_type": "pyout",
       "prompt_number": 5,
       "text": [
        "array([ 10.4,   9.7,  10.2,  10.2,   9.6,  10.4,  10. ,   9.6,   9.8,\n",
        "        10.4,  10.3,  10.2,  10. ,  10.2,   8. ,   4.4])"
       ]
      }
     ],
     "prompt_number": 5
    },
    {
     "cell_type": "code",
     "collapsed": false,
     "input": [
      "h2=data[1:,2]\n",
      "h2"
     ],
     "language": "python",
     "metadata": {},
     "outputs": [
      {
       "metadata": {},
       "output_type": "pyout",
       "prompt_number": 6,
       "text": [
        "array([ 2. ,  2. ,  1.3,  0.8,  0.7,  1.5,  1.4,  0.8,  1.7,  2. ,  2. ,\n",
        "        0.9,  0.7,  0.6,  0.8,  0.4])"
       ]
      }
     ],
     "prompt_number": 6
    },
    {
     "cell_type": "code",
     "collapsed": false,
     "input": [
      "lnh=log(h1/h2)\n",
      "lnh"
     ],
     "language": "python",
     "metadata": {},
     "outputs": [
      {
       "metadata": {},
       "output_type": "pyout",
       "prompt_number": 7,
       "text": [
        "array([ 1.64865863,  1.5789787 ,  2.06002346,  2.54553127,  2.61843804,\n",
        "        1.9363407 ,  1.96611286,  2.48490665,  1.75175413,  1.64865863,\n",
        "        1.63899671,  2.42774824,  2.65926004,  2.83321334,  2.30258509,\n",
        "        2.39789527])"
       ]
      }
     ],
     "prompt_number": 7
    },
    {
     "cell_type": "code",
     "collapsed": false,
     "input": [
      "dh=0.1\n",
      "dlnh=dh/h1+dh/h2\n",
      "dlnh"
     ],
     "language": "python",
     "metadata": {},
     "outputs": [
      {
       "metadata": {},
       "output_type": "pyout",
       "prompt_number": 19,
       "text": [
        "array([ 0.05961538,  0.06030928,  0.086727  ,  0.13480392,  0.15327381,\n",
        "        0.07628205,  0.08142857,  0.13541667,  0.06902761,  0.05961538,\n",
        "        0.05970874,  0.12091503,  0.15285714,  0.17647059,  0.1375    ,\n",
        "        0.27272727])"
       ]
      }
     ],
     "prompt_number": 19
    },
    {
     "cell_type": "code",
     "collapsed": false,
     "input": [
      "def y(x,a,b):\n",
      "    return a*x+b\n",
      "co,sko=curve_fit(y,tau,lnh,sigma=dlnh,absolute_sigma=False)\n",
      "errorbar(tau,lnh,yerr=dlnh,fmt=\"o\")\n",
      "k=co[0]\n",
      "lng=co[1]\n",
      "slng=sqrt(sko[1][1])\n",
      "taus=array([0]+list(tau)+[30])\n",
      "plot(taus,taus*k+lng)\n",
      "xlabel('\u03c4, \u0441')\n",
      "ylabel('ln(h\u2081/h\u2082)')\n",
      "minorticks_on()\n",
      "grid(which='both',color='grey',linestyle='-')\n",
      "savefig(\"graph.pdf\",dpi=300,format='pdf')\n",
      "print(lng,slng,k)"
     ],
     "language": "python",
     "metadata": {},
     "outputs": [
      {
       "output_type": "stream",
       "stream": "stdout",
       "text": [
        "1.50362676206 0.037976517008 0.0561457910158\n"
       ]
      },
      {
       "metadata": {},
       "output_type": "display_data",
       "png": "[encoded data removed]",
       "text": [
        "<matplotlib.figure.Figure at 0xaeb98c6c>"
       ]
      }
     ],
     "prompt_number": 32
    },
    {
     "cell_type": "code",
     "collapsed": false,
     "input": [
      "gamma=1/(1-exp(-lng))\n",
      "gamma"
     ],
     "language": "python",
     "metadata": {},
     "outputs": [
      {
       "metadata": {},
       "output_type": "pyout",
       "prompt_number": 22,
       "text": [
        "1.2858798836283949"
       ]
      }
     ],
     "prompt_number": 22
    },
    {
     "cell_type": "code",
     "collapsed": false,
     "input": [
      "sgamma=slng*exp(-lng)/(1-exp(-lng))**2\n",
      "sgamma"
     ],
     "language": "python",
     "metadata": {},
     "outputs": [
      {
       "metadata": {},
       "output_type": "pyout",
       "prompt_number": 33,
       "text": [
        "0.013960440759932366"
       ]
      }
     ],
     "prompt_number": 33
    },
    {
     "cell_type": "code",
     "collapsed": false,
     "input": [],
     "language": "python",
     "metadata": {},
     "outputs": []
    }
   ],
   "metadata": {}
  }
 ]
}