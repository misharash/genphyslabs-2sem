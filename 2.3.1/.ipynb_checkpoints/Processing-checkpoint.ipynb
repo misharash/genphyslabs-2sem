{
 "metadata": {
  "name": "",
  "signature": "sha256:273fd2202d15c82f80d369f64744aa567820192fa1d72e9fe18e589be8347455"
 },
 "nbformat": 3,
 "nbformat_minor": 0,
 "worksheets": [
  {
   "cells": [
    {
     "cell_type": "code",
     "collapsed": false,
     "input": [
      "from numpy import *"
     ],
     "language": "python",
     "metadata": {},
     "outputs": [],
     "prompt_number": 1
    },
    {
     "cell_type": "code",
     "collapsed": false,
     "input": [
      "rho=885\n",
      "g=9.8\n",
      "P0=99.6e3\n",
      "Vk=40e-6\n",
      "dhf=9e-2\n",
      "dhp=6.5e-2\n",
      "sh=.5e-2\n",
      "sVk=2e-6"
     ],
     "language": "python",
     "metadata": {},
     "outputs": [],
     "prompt_number": 2
    },
    {
     "cell_type": "code",
     "collapsed": false,
     "input": [
      "Vf=Vk*P0/(rho*g*dhf)\n",
      "sVf=Vf*sqrt((sVk/Vk)**2+(sh/dhf)**2)\n",
      "print(Vf,sVf)"
     ],
     "language": "python",
     "metadata": {},
     "outputs": [
      {
       "output_type": "stream",
       "stream": "stdout",
       "text": [
        "0.005103962488950384 0.000381482180426\n"
       ]
      }
     ],
     "prompt_number": 3
    },
    {
     "cell_type": "code",
     "collapsed": false,
     "input": [
      "Vv=Vk*P0/(rho*g)*(1/dhp-1/dhf)\n",
      "sVv=Vv*sqrt((sVk/Vk)**2+((sh/dhf**2+sh/dhp**2)/(1/dhp-1/dhf))**2)\n",
      "print(Vv,sVv)"
     ],
     "language": "python",
     "metadata": {},
     "outputs": [
      {
       "output_type": "stream",
       "stream": "stdout",
       "text": [
        "0.001963062495750147 0.000832973908407\n"
       ]
      }
     ],
     "prompt_number": 4
    },
    {
     "cell_type": "code",
     "collapsed": false,
     "input": [
      "R=9.31\n",
      "T=295\n",
      "mu=.029\n",
      "r=1.22e-3/2\n",
      "L=75e-3\n",
      "P1=1.5e-2\n",
      "Pust=1.9e-4\n",
      "Ppr=1.2e-4\n",
      "sP=0.05e-4\n",
      "sP1=0.05e-2"
     ],
     "language": "python",
     "metadata": {},
     "outputs": [],
     "prompt_number": 5
    },
    {
     "cell_type": "code",
     "collapsed": false,
     "input": [
      "W=4/3*sqrt(2*pi*R*T/mu)*r**3/L*P1/(Pust-Ppr)\n",
      "sW=W*sqrt((sP1/P1)**2+2*(sP/(Pust-Ppr))**2)\n",
      "print(W,sW)"
     ],
     "language": "python",
     "metadata": {},
     "outputs": [
      {
       "output_type": "stream",
       "stream": "stdout",
       "text": [
        "0.00066701712018 7.0952541941e-05\n"
       ]
      }
     ],
     "prompt_number": 6
    },
    {
     "cell_type": "code",
     "collapsed": false,
     "input": [
      "import pylab as plt\n",
      "from scipy.optimize import curve_fit\n",
      "from scipy import genfromtxt\n",
      "%matplotlib inline"
     ],
     "language": "python",
     "metadata": {},
     "outputs": [],
     "prompt_number": 7
    },
    {
     "cell_type": "code",
     "collapsed": false,
     "input": [
      "N,t1,t2,t3=genfromtxt(\"exp1.csv\",delimiter=',',skip_header=1).T\n",
      "st=.5\n",
      "sN=.5"
     ],
     "language": "python",
     "metadata": {},
     "outputs": [],
     "prompt_number": 8
    },
    {
     "cell_type": "code",
     "collapsed": false,
     "input": [
      "plt.errorbar(t1,N,xerr=st,yerr=sN,fmt='.')\n",
      "plt.errorbar(t2,N,xerr=st,yerr=sN,fmt='.')\n",
      "plt.errorbar(t3,N,xerr=st,yerr=sN,fmt='.')\n",
      "def lin (x,a,b):\n",
      "    return x*a+b\n",
      "ko,sko=curve_fit(lin,array(list(t1)+list(t2)+list(t3)),array(list(N)*3))\n",
      "kN,skN=ko[0],sqrt(sko[0,0])\n",
      "plt.plot(t1,t1*ko[0]+ko[1])\n",
      "plt.xlabel(\"t, \u0441\")\n",
      "plt.ylabel(\"N\")\n",
      "plt.minorticks_on()\n",
      "plt.grid(which='both')\n",
      "plt.savefig(\"graph1.pdf\")\n",
      "print(kN,skN)"
     ],
     "language": "python",
     "metadata": {},
     "outputs": [
      {
       "output_type": "stream",
       "stream": "stdout",
       "text": [
        "0.533310936173 0.0109565801248\n"
       ]
      },
      {
       "metadata": {},
       "output_type": "display_data",
       "png": "[encoded data removed]",
       "text": [
        "<matplotlib.figure.Figure at 0xaf5d182c>"
       ]
      }
     ],
     "prompt_number": 9
    },
    {
     "cell_type": "code",
     "collapsed": false,
     "input": [
      "N,t1,t2,t3=genfromtxt(\"exp2.csv\",delimiter=',',skip_header=1).T"
     ],
     "language": "python",
     "metadata": {},
     "outputs": [],
     "prompt_number": 10
    },
    {
     "cell_type": "code",
     "collapsed": false,
     "input": [
      "plt.errorbar(t1,log(N/N[0]),xerr=st,yerr=sN/N,fmt='.')\n",
      "plt.errorbar(t2,log(N/N[0]),xerr=st,yerr=sN/N,fmt='.')\n",
      "plt.errorbar(t3,log(N/N[0]),xerr=st,yerr=sN/N,fmt='.')\n",
      "def slin (x,a):\n",
      "    return x*a\n",
      "ko,sko=curve_fit(lin,array(list(t1[:-1])+list(t2[:-1])+list(t3[:-1])),array(list(log(N[:-1]))*3))\n",
      "klN,sklN=ko[0],sqrt(sko[0,0])\n",
      "plt.plot(t1[:-1],t1[:-1]*ko[0])\n",
      "plt.xlabel(\"t, \u0441\")\n",
      "plt.ylabel(\"ln N/N\u2080\")\n",
      "plt.minorticks_on()\n",
      "plt.grid(which='both')\n",
      "plt.savefig(\"graph2.pdf\")\n",
      "print(klN,sklN)"
     ],
     "language": "python",
     "metadata": {},
     "outputs": [
      {
       "output_type": "stream",
       "stream": "stdout",
       "text": [
        "-0.10277198717 0.00532755697567\n"
       ]
      },
      {
       "metadata": {},
       "output_type": "display_data",
       "png": "[encoded data removed]",
       "text": [
        "<matplotlib.figure.Figure at 0xaf4668cc>"
       ]
      }
     ],
     "prompt_number": 11
    },
    {
     "cell_type": "code",
     "collapsed": false,
     "input": [],
     "language": "python",
     "metadata": {},
     "outputs": [],
     "prompt_number": 11
    }
   ],
   "metadata": {}
  }
 ]
}