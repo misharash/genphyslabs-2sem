{
 "metadata": {
  "name": "",
  "signature": "sha256:4b0a53044f16d4f71d4b80b96a26478553bd1759bfd8aae0c8e0747931a2b1aa"
 },
 "nbformat": 3,
 "nbformat_minor": 0,
 "worksheets": [
  {
   "cells": [
    {
     "cell_type": "code",
     "collapsed": false,
     "input": [
      "from numpy import *\n",
      "from scipy.optimize import curve_fit\n",
      "import pylab as plt\n",
      "%matplotlib inline"
     ],
     "language": "python",
     "metadata": {},
     "outputs": [],
     "prompt_number": 3
    },
    {
     "cell_type": "code",
     "collapsed": false,
     "input": [
      "Ptorr=array([40,80,120,160,250])\n",
      "D=array([9.1,5.3,3.7,3.2,2])\n",
      "sD=array([.9,.5,.4,.4,.3])"
     ],
     "language": "python",
     "metadata": {},
     "outputs": [],
     "prompt_number": 2
    },
    {
     "cell_type": "code",
     "collapsed": false,
     "input": [
      "oP=760/Ptorr\n",
      "def lin(x,a,b):\n",
      "    return a*x+b\n",
      "plt.errorbar(oP,D,yerr=sD,fmt=\".\")\n",
      "ko,sko=curve_fit(lin,oP,D,sigma=sD)\n",
      "oPn=array(list(oP)+[1])\n",
      "D0,sD0,kD,skD=ko[1],sqrt(sko[1,1]),ko[0],sqrt(sko[0,0])\n",
      "plt.plot(oPn,oPn*kD+D0)\n",
      "plt.xlabel(\"1/P, \u0430\u0442\u043c\u207b\u00b9\")\n",
      "plt.ylabel(\"D, \u0441\u043c\u00b2/\u0441\")\n",
      "plt.minorticks_on()\n",
      "plt.grid(which='both')\n",
      "plt.savefig(\"graph-DP.pdf\",format='pdf')\n",
      "Datm=D0+kD\n",
      "sDatm=sqrt(sD0**2+skD**2)\n",
      "print(D0,sD0,kD,skD)\n",
      "print(Datm,sDatm)"
     ],
     "language": "python",
     "metadata": {},
     "outputs": [
      {
       "output_type": "stream",
       "stream": "stdout",
       "text": [
        "0.777647248089 0.203557641972 0.458039837364 0.0303093673874\n",
        "1.23568708545 0.205801776855\n"
       ]
      },
      {
       "metadata": {},
       "output_type": "display_data",
       "png": "[encoded data removed]",
       "text": [
        "<matplotlib.figure.Figure at 0xaf32216c>"
       ]
      }
     ],
     "prompt_number": 9
    },
    {
     "cell_type": "code",
     "collapsed": false,
     "input": [
      "mu=4e-3\n",
      "T=300\n",
      "R=8.31\n",
      "k=1.38e-23\n",
      "v=sqrt(8*R*T/(pi*mu))\n",
      "v"
     ],
     "language": "python",
     "metadata": {},
     "outputs": [
      {
       "metadata": {},
       "output_type": "pyout",
       "prompt_number": 11,
       "text": [
        "1259.7988301758262"
       ]
      }
     ],
     "prompt_number": 11
    },
    {
     "cell_type": "code",
     "collapsed": false,
     "input": [
      "lb=3e-4*D/v\n",
      "lb"
     ],
     "language": "python",
     "metadata": {},
     "outputs": [
      {
       "metadata": {},
       "output_type": "pyout",
       "prompt_number": 15,
       "text": [
        "array([  2.16701265e-06,   1.26210627e-06,   8.81093055e-07,\n",
        "         7.62026426e-07,   4.76266516e-07])"
       ]
      }
     ],
     "prompt_number": 15
    },
    {
     "cell_type": "code",
     "collapsed": false,
     "input": [
      "n=Ptorr*1e5/760/(k*T)\n",
      "d=1/sqrt(pi*n*lb)\n",
      "d"
     ],
     "language": "python",
     "metadata": {},
     "outputs": [
      {
       "metadata": {},
       "output_type": "pyout",
       "prompt_number": 17,
       "text": [
        "array([  3.39915768e-10,   3.14948160e-10,   3.07773000e-10,\n",
        "         2.86607152e-10,   2.90026046e-10])"
       ]
      }
     ],
     "prompt_number": 17
    },
    {
     "cell_type": "code",
     "collapsed": false,
     "input": [
      "lba=3e-4*Datm/v\n",
      "na=1e5/(k*T)\n",
      "da=1/sqrt(pi*na*lba)\n",
      "print(lba,da)"
     ],
     "language": "python",
     "metadata": {},
     "outputs": [
      {
       "output_type": "stream",
       "stream": "stdout",
       "text": [
        "2.9425819167e-07 2.11622067653e-10\n"
       ]
      }
     ],
     "prompt_number": 18
    },
    {
     "cell_type": "code",
     "collapsed": false,
     "input": [],
     "language": "python",
     "metadata": {},
     "outputs": []
    }
   ],
   "metadata": {}
  }
 ]
}