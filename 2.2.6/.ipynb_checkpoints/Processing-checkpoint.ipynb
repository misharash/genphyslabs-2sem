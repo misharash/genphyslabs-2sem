{
 "metadata": {
  "name": "",
  "signature": "sha256:2a073598d2f1db00e4b41d8e51f58c5480dcbaa074ab2e0494bb134995d58791"
 },
 "nbformat": 3,
 "nbformat_minor": 0,
 "worksheets": [
  {
   "cells": [
    {
     "cell_type": "code",
     "collapsed": false,
     "input": [
      "from numpy import *\n",
      "from pylab import *\n",
      "from scipy.optimize import *\n",
      "%matplotlib inline"
     ],
     "language": "python",
     "metadata": {},
     "outputs": [],
     "prompt_number": 1
    },
    {
     "cell_type": "code",
     "collapsed": false,
     "input": [
      "data = genfromtxt('exp.csv',delimiter=',')\n",
      "data"
     ],
     "language": "python",
     "metadata": {},
     "outputs": [
      {
       "metadata": {},
       "output_type": "pyout",
       "prompt_number": 2,
       "text": [
        "array([[  1.00000000e+00,   6.00000000e-01,   7.00000000e-01,\n",
        "          7.00000000e-01,   3.30000000e+01,   1.11000000e+01,\n",
        "          7.80000000e+03,   1.25400000e+03],\n",
        "       [  2.00000000e+00,   6.50000000e-01,   7.00000000e-01,\n",
        "          6.50000000e-01,   3.30000000e+01,   1.09000000e+01,\n",
        "          7.80000000e+03,   1.25400000e+03],\n",
        "       [  3.00000000e+00,   5.00000000e-01,   6.00000000e-01,\n",
        "          7.00000000e-01,   4.00000000e+01,   1.09000000e+01,\n",
        "          7.80000000e+03,   1.25000000e+03],\n",
        "       [  4.00000000e+00,   8.00000000e-01,   8.00000000e-01,\n",
        "          7.00000000e-01,   4.00000000e+01,   6.00000000e+00,\n",
        "          7.80000000e+03,   1.25000000e+03],\n",
        "       [  5.00000000e+00,   7.00000000e-01,   7.00000000e-01,\n",
        "          7.00000000e-01,   4.70000000e+01,   5.00000000e+00,\n",
        "          7.80000000e+03,   1.24500000e+03],\n",
        "       [  6.00000000e+00,   8.00000000e-01,   7.00000000e-01,\n",
        "          7.00000000e-01,   2.60000000e+01,   1.28000000e+01,\n",
        "          7.80000000e+03,   1.25800000e+03],\n",
        "       [  7.00000000e+00,   7.00000000e-01,   8.00000000e-01,\n",
        "          7.00000000e-01,   4.70000000e+01,   4.80000000e+00,\n",
        "          7.80000000e+03,   1.24500000e+03],\n",
        "       [  8.00000000e+00,   9.00000000e-01,   8.00000000e-01,\n",
        "          8.00000000e-01,   2.60000000e+01,   1.00000000e+01,\n",
        "          7.80000000e+03,   1.25800000e+03],\n",
        "       [  9.00000000e+00,   1.90000000e+00,   1.90000000e+00,\n",
        "          1.80000000e+00,   2.60000000e+01,   9.70000000e+00,\n",
        "          2.50000000e+03,   1.25800000e+03],\n",
        "       [  1.00000000e+01,   2.10000000e+00,   2.00000000e+00,\n",
        "          2.00000000e+00,   5.40000000e+01,   2.30000000e+00,\n",
        "          2.50000000e+03,   1.25100000e+03],\n",
        "       [  1.10000000e+01,   2.00000000e+00,   2.00000000e+00,\n",
        "          2.00000000e+00,   2.60000000e+01,   9.90000000e+00,\n",
        "          2.50000000e+03,   1.25800000e+03],\n",
        "       [  1.20000000e+01,   2.00000000e+00,   1.90000000e+00,\n",
        "          1.90000000e+00,   5.40000000e+01,   2.20000000e+00,\n",
        "          2.50000000e+03,   1.25100000e+03],\n",
        "       [  1.30000000e+01,   2.10000000e+00,   1.90000000e+00,\n",
        "          1.90000000e+00,   4.70000000e+01,   3.30000000e+00,\n",
        "          2.50000000e+03,   1.24500000e+03],\n",
        "       [  1.40000000e+01,   2.10000000e+00,   2.00000000e+00,\n",
        "          2.20000000e+00,   4.70000000e+01,   3.30000000e+00,\n",
        "          2.50000000e+03,   1.24500000e+03],\n",
        "       [  1.50000000e+01,   1.90000000e+00,   2.00000000e+00,\n",
        "          2.00000000e+00,   4.00000000e+01,   4.60000000e+00,\n",
        "          2.50000000e+03,   1.25000000e+03],\n",
        "       [  1.60000000e+01,   2.10000000e+00,   2.00000000e+00,\n",
        "          2.00000000e+00,   4.00000000e+01,   5.10000000e+00,\n",
        "          2.50000000e+03,   1.25000000e+03],\n",
        "       [  1.70000000e+01,   1.80000000e+00,   2.00000000e+00,\n",
        "          1.90000000e+00,   3.30000000e+01,   6.40000000e+00,\n",
        "          2.50000000e+03,   1.25400000e+03],\n",
        "       [  1.80000000e+01,   2.00000000e+00,   2.10000000e+00,\n",
        "          2.00000000e+00,   3.30000000e+01,   7.70000000e+00,\n",
        "          2.50000000e+03,   1.25400000e+03],\n",
        "       [  1.90000000e+01,   8.00000000e-01,   9.00000000e-01,\n",
        "          8.00000000e-01,   5.40000000e+01,   2.60000000e+00,\n",
        "          7.80000000e+03,   1.25100000e+03],\n",
        "       [  2.00000000e+01,   8.00000000e-01,   7.50000000e-01,\n",
        "          7.50000000e-01,   5.40000000e+01,   2.80000000e+00,\n",
        "          7.80000000e+03,   1.25100000e+03]])"
       ]
      }
     ],
     "prompt_number": 2
    },
    {
     "cell_type": "code",
     "collapsed": false,
     "input": [
      "diam=data[:,1:4]\n",
      "diam"
     ],
     "language": "python",
     "metadata": {},
     "outputs": [
      {
       "metadata": {},
       "output_type": "pyout",
       "prompt_number": 3,
       "text": [
        "array([[ 0.6 ,  0.7 ,  0.7 ],\n",
        "       [ 0.65,  0.7 ,  0.65],\n",
        "       [ 0.5 ,  0.6 ,  0.7 ],\n",
        "       [ 0.8 ,  0.8 ,  0.7 ],\n",
        "       [ 0.7 ,  0.7 ,  0.7 ],\n",
        "       [ 0.8 ,  0.7 ,  0.7 ],\n",
        "       [ 0.7 ,  0.8 ,  0.7 ],\n",
        "       [ 0.9 ,  0.8 ,  0.8 ],\n",
        "       [ 1.9 ,  1.9 ,  1.8 ],\n",
        "       [ 2.1 ,  2.  ,  2.  ],\n",
        "       [ 2.  ,  2.  ,  2.  ],\n",
        "       [ 2.  ,  1.9 ,  1.9 ],\n",
        "       [ 2.1 ,  1.9 ,  1.9 ],\n",
        "       [ 2.1 ,  2.  ,  2.2 ],\n",
        "       [ 1.9 ,  2.  ,  2.  ],\n",
        "       [ 2.1 ,  2.  ,  2.  ],\n",
        "       [ 1.8 ,  2.  ,  1.9 ],\n",
        "       [ 2.  ,  2.1 ,  2.  ],\n",
        "       [ 0.8 ,  0.9 ,  0.8 ],\n",
        "       [ 0.8 ,  0.75,  0.75]])"
       ]
      }
     ],
     "prompt_number": 3
    },
    {
     "cell_type": "code",
     "collapsed": false,
     "input": [
      "temp=data[:,4]\n",
      "temp"
     ],
     "language": "python",
     "metadata": {},
     "outputs": [
      {
       "metadata": {},
       "output_type": "pyout",
       "prompt_number": 4,
       "text": [
        "array([ 33.,  33.,  40.,  40.,  47.,  26.,  47.,  26.,  26.,  54.,  26.,\n",
        "        54.,  47.,  47.,  40.,  40.,  33.,  33.,  54.,  54.])"
       ]
      }
     ],
     "prompt_number": 4
    },
    {
     "cell_type": "code",
     "collapsed": false,
     "input": [
      "t=data[:,5]\n",
      "t"
     ],
     "language": "python",
     "metadata": {},
     "outputs": [
      {
       "metadata": {},
       "output_type": "pyout",
       "prompt_number": 5,
       "text": [
        "array([ 11.1,  10.9,  10.9,   6. ,   5. ,  12.8,   4.8,  10. ,   9.7,\n",
        "         2.3,   9.9,   2.2,   3.3,   3.3,   4.6,   5.1,   6.4,   7.7,\n",
        "         2.6,   2.8])"
       ]
      }
     ],
     "prompt_number": 5
    },
    {
     "cell_type": "code",
     "collapsed": false,
     "input": [
      "rho=data[:,6]\n",
      "rho"
     ],
     "language": "python",
     "metadata": {},
     "outputs": [
      {
       "metadata": {},
       "output_type": "pyout",
       "prompt_number": 6,
       "text": [
        "array([ 7800.,  7800.,  7800.,  7800.,  7800.,  7800.,  7800.,  7800.,\n",
        "        2500.,  2500.,  2500.,  2500.,  2500.,  2500.,  2500.,  2500.,\n",
        "        2500.,  2500.,  7800.,  7800.])"
       ]
      }
     ],
     "prompt_number": 6
    },
    {
     "cell_type": "code",
     "collapsed": false,
     "input": [
      "rg=data[:,7]\n",
      "rg"
     ],
     "language": "python",
     "metadata": {},
     "outputs": [
      {
       "metadata": {},
       "output_type": "pyout",
       "prompt_number": 7,
       "text": [
        "array([ 1254.,  1254.,  1250.,  1250.,  1245.,  1258.,  1245.,  1258.,\n",
        "        1258.,  1251.,  1258.,  1251.,  1245.,  1245.,  1250.,  1250.,\n",
        "        1254.,  1254.,  1251.,  1251.])"
       ]
      }
     ],
     "prompt_number": 7
    },
    {
     "cell_type": "code",
     "collapsed": false,
     "input": [
      "dia=mean(diam,axis=1)\n",
      "dia"
     ],
     "language": "python",
     "metadata": {},
     "outputs": [
      {
       "metadata": {},
       "output_type": "pyout",
       "prompt_number": 8,
       "text": [
        "array([ 0.66666667,  0.66666667,  0.6       ,  0.76666667,  0.7       ,\n",
        "        0.73333333,  0.73333333,  0.83333333,  1.86666667,  2.03333333,\n",
        "        2.        ,  1.93333333,  1.96666667,  2.1       ,  1.96666667,\n",
        "        2.03333333,  1.9       ,  2.03333333,  0.83333333,  0.76666667])"
       ]
      }
     ],
     "prompt_number": 8
    },
    {
     "cell_type": "code",
     "collapsed": false,
     "input": [
      "sdiam=std(diam,axis=1)\n",
      "sdiam"
     ],
     "language": "python",
     "metadata": {},
     "outputs": [
      {
       "metadata": {},
       "output_type": "pyout",
       "prompt_number": 9,
       "text": [
        "array([  4.71404521e-02,   2.35702260e-02,   8.16496581e-02,\n",
        "         4.71404521e-02,   1.11022302e-16,   4.71404521e-02,\n",
        "         4.71404521e-02,   4.71404521e-02,   4.71404521e-02,\n",
        "         4.71404521e-02,   0.00000000e+00,   4.71404521e-02,\n",
        "         9.42809042e-02,   8.16496581e-02,   4.71404521e-02,\n",
        "         4.71404521e-02,   8.16496581e-02,   4.71404521e-02,\n",
        "         4.71404521e-02,   2.35702260e-02])"
       ]
      }
     ],
     "prompt_number": 9
    },
    {
     "cell_type": "code",
     "collapsed": false,
     "input": [
      "r=dia*0.5e-3\n",
      "sr=sdiam*0.5e-3\n",
      "g=9.8\n",
      "l=0.1\n",
      "eta=2/9*g*r*r*(rho-rg)*t/l\n",
      "lneta=log(eta)\n",
      "eta"
     ],
     "language": "python",
     "metadata": {},
     "outputs": [
      {
       "metadata": {},
       "output_type": "pyout",
       "prompt_number": 10,
       "text": [
        "array([ 0.17582071,  0.17265277,  0.1399342 ,  0.12576485,  0.08743642,\n",
        "        0.24517542,  0.09212348,  0.24734414,  0.22854959,  0.06466377,\n",
        "        0.2677752 ,  0.05591807,  0.0872113 ,  0.09943742,  0.12108293,\n",
        "        0.14349968,  0.1567324 ,  0.21596307,  0.06437829,  0.0586813 ])"
       ]
      }
     ],
     "prompt_number": 10
    },
    {
     "cell_type": "code",
     "collapsed": false,
     "input": [
      "st=0.1\n",
      "seta=eta*sqrt(4*(sr/r)**2+(st/t)**2)\n",
      "seta"
     ],
     "language": "python",
     "metadata": {},
     "outputs": [
      {
       "metadata": {},
       "output_type": "pyout",
       "prompt_number": 11,
       "text": [
        "array([ 0.0249152 ,  0.01231072,  0.0381069 ,  0.01560734,  0.00174873,\n",
        "        0.03157909,  0.01199834,  0.02809289,  0.01178151,  0.00411026,\n",
        "        0.0027048 ,  0.00372778,  0.00876941,  0.00829879,  0.00637359,\n",
        "        0.00722422,  0.01369148,  0.01039907,  0.00769295,  0.00417266])"
       ]
      }
     ],
     "prompt_number": 11
    },
    {
     "cell_type": "code",
     "collapsed": false,
     "input": [
      "slneta=seta/eta"
     ],
     "language": "python",
     "metadata": {},
     "outputs": [],
     "prompt_number": 12
    },
    {
     "cell_type": "code",
     "collapsed": false,
     "input": [
      "def y(x,a,b):\n",
      "    return a*x+b\n",
      "oT=1/(273+temp)\n",
      "co,sko=curve_fit(y,oT,lneta,sigma=slneta,absolute_sigma=False)\n",
      "errorbar(oT*1e3,lneta,yerr=slneta,fmt=\"o\")\n",
      "a,sa,b,sb=co[0],sqrt(sko[0,0]),co[1],sqrt(sko[1,1])\n",
      "plot(oT*1e3,oT*a+b)\n",
      "xlabel('1/T, 10\u207b\u00b3 K\u207b\u00b9')\n",
      "ylabel('ln \u03b7')\n",
      "minorticks_on()\n",
      "grid(which='both',color='grey',linestyle='-')\n",
      "savefig(\"graph.pdf\",dpi=300,format='pdf')\n",
      "print(a,sa,b,sb)"
     ],
     "language": "python",
     "metadata": {},
     "outputs": [
      {
       "output_type": "stream",
       "stream": "stdout",
       "text": [
        "5052.35987496 121.924388353 -18.2170321863 0.3999846039\n"
       ]
      },
      {
       "metadata": {},
       "output_type": "display_data",
       "png": "[encoded data removed]",
       "text": [
        "<matplotlib.figure.Figure at 0xb0c8c14c>"
       ]
      }
     ],
     "prompt_number": 13
    },
    {
     "cell_type": "code",
     "collapsed": false,
     "input": [
      "R=1.4e-2\n",
      "eta1=2/9*g*r*r*(rho-rg)*t/l/(1+2.4*r/R)\n",
      "eta1"
     ],
     "language": "python",
     "metadata": {},
     "outputs": [
      {
       "metadata": {},
       "output_type": "pyout",
       "prompt_number": 14,
       "text": [
        "array([ 0.16631689,  0.16332019,  0.13308959,  0.11800991,  0.08248719,\n",
        "        0.2306758 ,  0.08667532,  0.23085453,  0.19702551,  0.05506647,\n",
        "        0.22858859,  0.04796893,  0.0746307 ,  0.084269  ,  0.1036162 ,\n",
        "        0.12220167,  0.13478216,  0.18391016,  0.0600864 ,  0.05506289])"
       ]
      }
     ],
     "prompt_number": 14
    },
    {
     "cell_type": "code",
     "collapsed": false,
     "input": [
      "seta1=eta1*sqrt(4*(sr/r)**2+(st/t)**2)\n",
      "lneta1=log(eta1)\n",
      "slneta1=seta1/eta1\n",
      "seta1"
     ],
     "language": "python",
     "metadata": {},
     "outputs": [
      {
       "metadata": {},
       "output_type": "pyout",
       "prompt_number": 15,
       "text": [
        "array([ 0.02356844,  0.01164528,  0.03624297,  0.01464495,  0.00164974,\n",
        "        0.02971151,  0.01128876,  0.02622003,  0.01015647,  0.00350022,\n",
        "        0.00230898,  0.00319785,  0.00750439,  0.00703287,  0.00545417,\n",
        "        0.00615201,  0.011774  ,  0.00885566,  0.00718008,  0.00391537])"
       ]
      }
     ],
     "prompt_number": 15
    },
    {
     "cell_type": "code",
     "collapsed": false,
     "input": [
      "co1,sko1=curve_fit(y,oT,lneta1,sigma=slneta1,absolute_sigma=False)\n",
      "errorbar(oT*1e3,lneta1,yerr=slneta1,fmt=\"o\")\n",
      "a1,sa1,b1,sb1=co1[0],sqrt(sko1[0,0]),co1[1],sqrt(sko1[1,1])\n",
      "plot(oT*1e3,oT*a1+b1)\n",
      "xlabel('1/T, 10\u207b\u00b3 K\u207b\u00b9')\n",
      "ylabel('ln \u03b7')\n",
      "minorticks_on()\n",
      "grid(which='both',color='grey',linestyle='-')\n",
      "savefig(\"graph1.pdf\",dpi=300,format='pdf')\n",
      "print(a1,sa1,b1,sb1)"
     ],
     "language": "python",
     "metadata": {},
     "outputs": [
      {
       "output_type": "stream",
       "stream": "stdout",
       "text": [
        "4759.62841049 121.270013162 -17.3941057982 0.397837863498\n"
       ]
      },
      {
       "metadata": {},
       "output_type": "display_data",
       "png": "[encoded data removed]",
       "text": [
        "<matplotlib.figure.Figure at 0xaf38504c>"
       ]
      }
     ],
     "prompt_number": 26
    },
    {
     "cell_type": "code",
     "collapsed": false,
     "input": [
      "Re=rg*r*l/t/eta\n",
      "Re"
     ],
     "language": "python",
     "metadata": {},
     "outputs": [
      {
       "metadata": {},
       "output_type": "pyout",
       "prompt_number": 17,
       "text": [
        "array([ 0.02141821,  0.02221142,  0.02458561,  0.06350034,  0.09967243,\n",
        "        0.01469823,  0.10323553,  0.0211918 ,  0.05296211,  0.85515936,\n",
        "        0.04745425,  0.98301287,  0.42538623,  0.39837758,  0.22068358,\n",
        "        0.17364709,  0.11876333,  0.07666655,  0.31141054,  0.29186103])"
       ]
      }
     ],
     "prompt_number": 17
    },
    {
     "cell_type": "code",
     "collapsed": false,
     "input": [
      "Re1=rg*r*l/t/eta1\n",
      "Re1"
     ],
     "language": "python",
     "metadata": {},
     "outputs": [
      {
       "metadata": {},
       "output_type": "pyout",
       "prompt_number": 18,
       "text": [
        "array([ 0.02264211,  0.02348064,  0.02585001,  0.06767322,  0.10565277,\n",
        "        0.01562212,  0.10972462,  0.0227055 ,  0.06143604,  1.00420142,\n",
        "        0.05558926,  1.14591215,  0.49709419,  0.47008554,  0.25788452,\n",
        "        0.20391129,  0.13810479,  0.09002843,  0.33365415,  0.31104047])"
       ]
      }
     ],
     "prompt_number": 18
    },
    {
     "cell_type": "code",
     "collapsed": false,
     "input": [
      "k=1.38e-23\n",
      "k*a1"
     ],
     "language": "python",
     "metadata": {},
     "outputs": [
      {
       "metadata": {},
       "output_type": "pyout",
       "prompt_number": 19,
       "text": [
        "6.5682872064699473e-20"
       ]
      }
     ],
     "prompt_number": 19
    },
    {
     "cell_type": "code",
     "collapsed": false,
     "input": [
      "k*sa1"
     ],
     "language": "python",
     "metadata": {},
     "outputs": [
      {
       "metadata": {},
       "output_type": "pyout",
       "prompt_number": 20,
       "text": [
        "1.673526181639463e-21"
       ]
      }
     ],
     "prompt_number": 20
    },
    {
     "cell_type": "code",
     "collapsed": false,
     "input": [
      "ez=1.6e-19\n",
      "k*a1/ez"
     ],
     "language": "python",
     "metadata": {},
     "outputs": [
      {
       "metadata": {},
       "output_type": "pyout",
       "prompt_number": 21,
       "text": [
        "0.41051795040437172"
       ]
      }
     ],
     "prompt_number": 21
    },
    {
     "cell_type": "code",
     "collapsed": false,
     "input": [
      "k*sa1/ez"
     ],
     "language": "python",
     "metadata": {},
     "outputs": [
      {
       "metadata": {},
       "output_type": "pyout",
       "prompt_number": 22,
       "text": [
        "0.010459538635246644"
       ]
      }
     ],
     "prompt_number": 22
    },
    {
     "cell_type": "code",
     "collapsed": false,
     "input": [
      "Na=6.02e23\n",
      "mu=0.092\n",
      "k*a1*Na/mu"
     ],
     "language": "python",
     "metadata": {},
     "outputs": [
      {
       "metadata": {},
       "output_type": "pyout",
       "prompt_number": 23,
       "text": [
        "429794.4454668379"
       ]
      }
     ],
     "prompt_number": 23
    },
    {
     "cell_type": "code",
     "collapsed": false,
     "input": [
      "k*sa1*Na/mu"
     ],
     "language": "python",
     "metadata": {},
     "outputs": [
      {
       "metadata": {},
       "output_type": "pyout",
       "prompt_number": 24,
       "text": [
        "10950.682188553877"
       ]
      }
     ],
     "prompt_number": 24
    },
    {
     "cell_type": "code",
     "collapsed": false,
     "input": [],
     "language": "python",
     "metadata": {},
     "outputs": [],
     "prompt_number": 24
    }
   ],
   "metadata": {}
  }
 ]
}